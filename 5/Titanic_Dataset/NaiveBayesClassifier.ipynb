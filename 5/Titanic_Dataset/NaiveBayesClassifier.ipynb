{
  "nbformat": 4,
  "nbformat_minor": 0,
  "metadata": {
    "colab": {
      "provenance": [],
      "authorship_tag": "ABX9TyN1x1N/cMT/saVsm/ywyWCP",
      "include_colab_link": true
    },
    "kernelspec": {
      "name": "python3",
      "display_name": "Python 3"
    },
    "language_info": {
      "name": "python"
    }
  },
  "cells": [
    {
      "cell_type": "markdown",
      "metadata": {
        "id": "view-in-github",
        "colab_type": "text"
      },
      "source": [
        "<a href=\"https://colab.research.google.com/github/VishruthVS/ML_Lab/blob/main/5/Titanic_Dataset/NaiveBayesClassifier.ipynb\" target=\"_parent\"><img src=\"https://colab.research.google.com/assets/colab-badge.svg\" alt=\"Open In Colab\"/></a>"
      ]
    },
    {
      "cell_type": "code",
      "execution_count": 3,
      "metadata": {
        "id": "PFAdW8-r72K5",
        "colab": {
          "base_uri": "https://localhost:8080/"
        },
        "outputId": "1697846b-961a-4bdd-d3c0-0d4419995025"
      },
      "outputs": [
        {
          "output_type": "stream",
          "name": "stdout",
          "text": [
            "Titanic dataset Naive Bayes Classifier Results: \n",
            "\n",
            "Results for K=3\n",
            "Split 30-70\n",
            "Confusion Matrix:\n",
            "[[303  77]\n",
            " [134 110]]\n",
            "Accuracy: 0.6618589743589743\n",
            "\n",
            "Results for K=5\n",
            "Split 50-50\n",
            "Confusion Matrix:\n",
            "[[206  61]\n",
            " [ 97  82]]\n",
            "Accuracy: 0.6457399103139013\n",
            "\n",
            "Results for K=7\n",
            "Split 70-30\n",
            "Confusion Matrix:\n",
            "[[131  26]\n",
            " [ 62  49]]\n",
            "Accuracy: 0.6716417910447762\n",
            "\n",
            "Results for K=9\n",
            "Split 90-10\n",
            "Confusion Matrix:\n",
            "[[44 10]\n",
            " [17 19]]\n",
            "Accuracy: 0.7\n"
          ]
        }
      ],
      "source": [
        "import numpy as np\n",
        "import pandas as pd\n",
        "from sklearn.metrics import confusion_matrix\n",
        "from sklearn.model_selection import train_test_split\n",
        "\n",
        "class NaiveBayesClassifier:\n",
        "    def __init__(self):\n",
        "        self.prior = {}\n",
        "        self.conditional = {}\n",
        "\n",
        "    def fit(self, X, y):\n",
        "        self.classes = np.unique(y)\n",
        "        for c in self.classes:\n",
        "            self.prior[c] = np.mean(y == c)\n",
        "\n",
        "        for feature in X.columns:\n",
        "            self.conditional[feature] = {}\n",
        "            for c in self.classes:\n",
        "                feature_values = X[feature][y == c]\n",
        "                self.conditional[feature][c] = {'mean': np.mean(feature_values), 'std': np.std(feature_values)}\n",
        "\n",
        "    def predict(self, X):\n",
        "        y_pred = []\n",
        "        for _, sample in X.iterrows():\n",
        "            probabilities = {}\n",
        "            for c in self.classes:\n",
        "                probabilities[c] = self.prior[c]\n",
        "                for feature in X.columns:\n",
        "                    mean = self.conditional[feature][c]['mean']\n",
        "                    std = self.conditional[feature][c]['std']\n",
        "                    x = sample[feature]\n",
        "                    probabilities[c] *= self._gaussian_pdf(x, mean, std)\n",
        "            y_pred.append(max(probabilities, key=probabilities.get))\n",
        "        return y_pred\n",
        "\n",
        "    def _gaussian_pdf(self, x, mean, std):\n",
        "        exponent = np.exp(-((x - mean) ** 2) / (2 * std ** 2))\n",
        "        return (1 / (np.sqrt(2 * np.pi) * std)) * exponent\n",
        "\n",
        "def evaluate_naive_bayes(dataset, target_col, K_values):\n",
        "    for K in K_values:\n",
        "        print(f\"\\nResults for K={K}\")\n",
        "        train, test = train_test_split(dataset, test_size=(1 - K / 10), random_state=42)\n",
        "        print(f\"Split {K * 10}-{100 - K * 10}\")\n",
        "        X_train = train.drop(target_col, axis=1)\n",
        "        y_train = train[target_col]\n",
        "        X_test = test.drop(target_col, axis=1)\n",
        "        y_test = test[target_col]\n",
        "\n",
        "        classifier = NaiveBayesClassifier()\n",
        "        classifier.fit(X_train, y_train)\n",
        "        y_pred = classifier.predict(X_test)\n",
        "\n",
        "        cm = confusion_matrix(y_test, y_pred)\n",
        "        accuracy = np.mean(y_pred == y_test)\n",
        "\n",
        "        print(\"Confusion Matrix:\")\n",
        "        print(cm)\n",
        "        print(\"Accuracy:\", accuracy)\n",
        "\n",
        "df = pd.read_csv('titanic.csv')\n",
        "df = df[['Survived', 'Pclass', 'Age', 'SibSp', 'Parch', 'Fare', 'Embarked']]\n",
        "df['Age'].fillna(df['Age'].median(), inplace=True)\n",
        "df['Fare'].fillna(df['Fare'].median(), inplace=True)\n",
        "df['Embarked'].fillna(df['Embarked'].mode()[0], inplace=True)\n",
        "df['Embarked'] = df['Embarked'].map({'C': 0, 'Q': 1, 'S': 2})\n",
        "\n",
        "print(\"Titanic dataset Naive Bayes Classifier Results: \")\n",
        "evaluate_naive_bayes(df, 'Survived', [3, 5, 7, 9])\n"
      ]
    }
  ]
}