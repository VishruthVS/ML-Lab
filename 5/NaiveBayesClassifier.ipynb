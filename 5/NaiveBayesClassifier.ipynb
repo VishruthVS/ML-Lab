{
  "nbformat": 4,
  "nbformat_minor": 0,
  "metadata": {
    "colab": {
      "provenance": [],
      "authorship_tag": "ABX9TyMJK2cnz+XYQF2yGw4g4rKy",
      "include_colab_link": true
    },
    "kernelspec": {
      "name": "python3",
      "display_name": "Python 3"
    },
    "language_info": {
      "name": "python"
    }
  },
  "cells": [
    {
      "cell_type": "markdown",
      "metadata": {
        "id": "view-in-github",
        "colab_type": "text"
      },
      "source": [
        "<a href=\"https://colab.research.google.com/github/VishruthVS/ML_Lab/blob/main/5/NaiveBayesClassifier.ipynb\" target=\"_parent\"><img src=\"https://colab.research.google.com/assets/colab-badge.svg\" alt=\"Open In Colab\"/></a>"
      ]
    },
    {
      "cell_type": "code",
      "execution_count": 1,
      "metadata": {
        "colab": {
          "base_uri": "https://localhost:8080/"
        },
        "id": "RV6Pc8mBB3Ig",
        "outputId": "6b0d60d3-1aee-4065-fd0d-543b72e91b5a"
      },
      "outputs": [
        {
          "output_type": "stream",
          "name": "stdout",
          "text": [
            "Confusion Matrix:\n",
            " [[103  17]\n",
            " [ 37  22]]\n",
            "Accuracy: 0.6983240223463687\n"
          ]
        }
      ],
      "source": [
        "import numpy as np\n",
        "import pandas as pd\n",
        "from sklearn.metrics import confusion_matrix\n",
        "from sklearn.model_selection import train_test_split\n",
        "\n",
        "class NaiveBayesClassifier:\n",
        "  def __init__(self):\n",
        "    self.prior = {}\n",
        "    self.conditional = {}\n",
        "\n",
        "  def fit(self, X, y):\n",
        "    self.classes = np.unique(y)\n",
        "    for c in self.classes:\n",
        "      self.prior[c] = np.mean(y == c)\n",
        "\n",
        "    for feature in X.columns:\n",
        "      self.conditional[feature] = {}\n",
        "      for c in self.classes:\n",
        "        feature_values = X[feature][y == c]\n",
        "        self.conditional[feature][c] = { 'mean': np.mean(feature_values),'std': np.std(feature_values) }\n",
        "\n",
        "  def predict(self, X):\n",
        "    y_pred = []\n",
        "    for _, sample in X.iterrows():\n",
        "      probabilities = {}\n",
        "      for c in self.classes:\n",
        "        probabilities[c] = self.prior[c]\n",
        "        for feature in X.columns:\n",
        "          mean = self.conditional[feature][c]['mean']\n",
        "          std = self.conditional[feature][c]['std']\n",
        "          x = sample[feature]\n",
        "          probabilities[c] *= self._gaussian_pdf(x, mean, std)\n",
        "      y_pred.append(max(probabilities, key=probabilities.get))\n",
        "    return y_pred\n",
        "\n",
        "  def _gaussian_pdf(self, x, mean, std):\n",
        "    exponent = np.exp(-((x - mean) ** 2) / (2 * std ** 2))\n",
        "    return (1 / (np.sqrt(2 * np.pi) * std)) * exponent\n",
        "\n",
        "df = pd.read_csv('titanic.csv')\n",
        "df = df[['Survived', 'Pclass', 'Age', 'SibSp', 'Parch', 'Fare', 'Embarked']]\n",
        "df['Age'].fillna(df['Age'].median(), inplace=True)\n",
        "df['Fare'].fillna(df['Fare'].median(), inplace=True)\n",
        "df['Embarked'].fillna(df['Embarked'].mode()[0], inplace=True)\n",
        "df['Embarked'] = df['Embarked'].map({'C': 0, 'Q': 1, 'S': 2})\n",
        "\n",
        "train, test = train_test_split(df, test_size=0.2)\n",
        "\n",
        "X_train = train.drop('Survived', axis=1)\n",
        "y_train = train['Survived']\n",
        "X_test = test.drop('Survived', axis=1)\n",
        "y_test = test['Survived']\n",
        "\n",
        "classifier = NaiveBayesClassifier()\n",
        "classifier.fit(X_train, y_train)\n",
        "y_pred = classifier.predict(X_test)\n",
        "\n",
        "cm = confusion_matrix(y_test, y_pred)\n",
        "print(\"Confusion Matrix:\\n\", cm)\n",
        "accuracy = np.mean(y_pred == y_test)\n",
        "print(\"Accuracy:\", accuracy)"
      ]
    }
  ]
}