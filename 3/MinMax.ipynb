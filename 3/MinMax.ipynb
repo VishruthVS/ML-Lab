{
  "nbformat": 4,
  "nbformat_minor": 0,
  "metadata": {
    "colab": {
      "provenance": [],
      "authorship_tag": "ABX9TyPaDGGFaKq5rC09KoJkE9x6",
      "include_colab_link": true
    },
    "kernelspec": {
      "name": "python3",
      "display_name": "Python 3"
    },
    "language_info": {
      "name": "python"
    }
  },
  "cells": [
    {
      "cell_type": "markdown",
      "metadata": {
        "id": "view-in-github",
        "colab_type": "text"
      },
      "source": [
        "<a href=\"https://colab.research.google.com/github/VishruthVS/ML_Lab/blob/main/3/MinMax.ipynb\" target=\"_parent\"><img src=\"https://colab.research.google.com/assets/colab-badge.svg\" alt=\"Open In Colab\"/></a>"
      ]
    },
    {
      "cell_type": "code",
      "execution_count": 9,
      "metadata": {
        "colab": {
          "base_uri": "https://localhost:8080/"
        },
        "id": "9q3KBVB2AIzV",
        "outputId": "fe83962f-ba8a-4514-cb96-71e6520f3000"
      },
      "outputs": [
        {
          "output_type": "stream",
          "name": "stdout",
          "text": [
            "Optimal value: 3\n",
            "Optimal path: [0, 1, 3]\n"
          ]
        }
      ],
      "source": [
        "class TreeNode:\n",
        "    def __init__(self, value, children=[]):\n",
        "        self.value = value\n",
        "        self.children = children\n",
        "\n",
        "def minimax(node, depth, maximizing_player):\n",
        "    if depth == 0 or not node.children:\n",
        "        return node.value, [node.value]\n",
        "\n",
        "    if maximizing_player:\n",
        "        max_value = float(\"-inf\")\n",
        "        max_path = []\n",
        "        for child_node in node.children:\n",
        "            child_value, child_path = minimax(child_node, depth - 1, False)\n",
        "            if child_value > max_value:\n",
        "                max_value = child_value\n",
        "                max_path = [node.value] + child_path\n",
        "        return max_value, max_path\n",
        "    else:\n",
        "        min_value = float(\"inf\")\n",
        "        min_path = []\n",
        "        for child_node in node.children:\n",
        "            child_value, child_path = minimax(child_node, depth - 1, True)\n",
        "            if child_value < min_value:\n",
        "                min_value = child_value\n",
        "                min_path = [node.value] + child_path\n",
        "        return min_value, min_path\n",
        "\n",
        "\n",
        "game_tree = TreeNode(0, [\n",
        "    TreeNode(1, [TreeNode(3),TreeNode(12)]),\n",
        "    TreeNode(4, [TreeNode(8),TreeNode(2)])\n",
        "])\n",
        "\n",
        "\n",
        "optimal_value, optimal_path = minimax(game_tree, 2, True)\n",
        "\n",
        "print(\"Optimal value:\", optimal_value)\n",
        "print(\"Optimal path:\", optimal_path)"
      ]
    }
  ]
}