{
  "nbformat": 4,
  "nbformat_minor": 0,
  "metadata": {
    "colab": {
      "provenance": [],
      "authorship_tag": "ABX9TyNaKqdKcJ0P4GKwvbxZFumk",
      "include_colab_link": true
    },
    "kernelspec": {
      "name": "python3",
      "display_name": "Python 3"
    },
    "language_info": {
      "name": "python"
    }
  },
  "cells": [
    {
      "cell_type": "markdown",
      "metadata": {
        "id": "view-in-github",
        "colab_type": "text"
      },
      "source": [
        "<a href=\"https://colab.research.google.com/github/VishruthVS/ML_Lab/blob/main/11/SLP_withoutkeras/SLP.ipynb\" target=\"_parent\"><img src=\"https://colab.research.google.com/assets/colab-badge.svg\" alt=\"Open In Colab\"/></a>"
      ]
    },
    {
      "cell_type": "code",
      "execution_count": 2,
      "metadata": {
        "colab": {
          "base_uri": "https://localhost:8080/"
        },
        "id": "d4FljVm1Mpe0",
        "outputId": "b2ef4af5-4e78-4acc-c759-253c1fe59fe1"
      },
      "outputs": [
        {
          "output_type": "stream",
          "name": "stdout",
          "text": [
            "AND Function Predictions:\n",
            "[[0]\n",
            " [0]\n",
            " [0]\n",
            " [1]]\n",
            "\n",
            "OR Function Predictions:\n",
            "[[0]\n",
            " [1]\n",
            " [1]\n",
            " [1]]\n",
            "\n",
            "AND Function Prediction for input [1, 1]:\n",
            "[[1]]\n",
            "\n",
            "OR Function Prediction for input [0, 1]:\n",
            "[[1]]\n"
          ]
        }
      ],
      "source": [
        "import numpy as np\n",
        "\n",
        "def step_function(x):\n",
        "    return np.where(x >= 0, 1, 0)\n",
        "\n",
        "X_and = np.array([[0, 0], [0, 1], [1, 0], [1, 1]])\n",
        "y_and = np.array([[0], [0], [0], [1]])\n",
        "\n",
        "X_or = np.array([[0, 0], [0, 1], [1, 0], [1, 1]])\n",
        "y_or = np.array([[0], [1], [1], [1]])\n",
        "\n",
        "class Perceptron:\n",
        "    def __init__(self, input_size, learning_rate=0.1, epochs=1000):\n",
        "        self.weights = np.zeros((input_size, 1))\n",
        "        self.bias = 0\n",
        "        self.learning_rate = learning_rate\n",
        "        self.epochs = epochs\n",
        "\n",
        "    def train(self, X, y):\n",
        "        for _ in range(self.epochs):\n",
        "            for inputs, label in zip(X, y):\n",
        "                inputs = inputs.reshape(-1, 1)\n",
        "                linear_output = np.dot(inputs.T, self.weights) + self.bias\n",
        "                prediction = step_function(linear_output)\n",
        "                error = label - prediction\n",
        "                self.weights += self.learning_rate * error * inputs\n",
        "                self.bias += self.learning_rate * error\n",
        "    def predict(self, X):\n",
        "        linear_output = np.dot(X, self.weights) + self.bias\n",
        "        return step_function(linear_output)\n",
        "\n",
        "perceptron_and = Perceptron(input_size=2)\n",
        "perceptron_and.train(X_and, y_and)\n",
        "\n",
        "perceptron_or = Perceptron(input_size=2)\n",
        "perceptron_or.train(X_or, y_or)\n",
        "\n",
        "print(\"AND Function Predictions:\")\n",
        "print(perceptron_and.predict(X_and))\n",
        "\n",
        "print(\"\\nOR Function Predictions:\")\n",
        "print(perceptron_or.predict(X_or))\n",
        "\n",
        "and_test_input = np.array([[1, 1]])\n",
        "print(\"\\nAND Function Prediction for input [1, 1]:\")\n",
        "print(perceptron_and.predict(and_test_input))\n",
        "\n",
        "or_test_input = np.array([[0, 1]])\n",
        "print(\"\\nOR Function Prediction for input [0, 1]:\")\n",
        "print(perceptron_or.predict(or_test_input))"
      ]
    }
  ]
}