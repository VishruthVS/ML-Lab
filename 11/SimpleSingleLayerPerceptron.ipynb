{
  "nbformat": 4,
  "nbformat_minor": 0,
  "metadata": {
    "colab": {
      "provenance": [],
      "authorship_tag": "ABX9TyPujCmjN/r7SaLBnej+Oif+",
      "include_colab_link": true
    },
    "kernelspec": {
      "name": "python3",
      "display_name": "Python 3"
    },
    "language_info": {
      "name": "python"
    }
  },
  "cells": [
    {
      "cell_type": "markdown",
      "metadata": {
        "id": "view-in-github",
        "colab_type": "text"
      },
      "source": [
        "<a href=\"https://colab.research.google.com/github/VishruthVS/ML_Lab/blob/main/11/SimpleSingleLayerPerceptron.ipynb\" target=\"_parent\"><img src=\"https://colab.research.google.com/assets/colab-badge.svg\" alt=\"Open In Colab\"/></a>"
      ]
    },
    {
      "cell_type": "code",
      "execution_count": 1,
      "metadata": {
        "colab": {
          "base_uri": "https://localhost:8080/"
        },
        "id": "spLqtL7kIQwL",
        "outputId": "2f97d912-859d-4d73-a82a-f3d987c07508"
      },
      "outputs": [
        {
          "output_type": "stream",
          "name": "stdout",
          "text": [
            "AND function:\n",
            "Input: [0 0], Output: 0\n",
            "Input: [0 1], Output: 0\n",
            "Input: [1 0], Output: 0\n",
            "Input: [1 1], Output: 1\n",
            "\n",
            "OR function:\n",
            "Input: [0 0], Output: 0\n",
            "Input: [0 1], Output: 1\n",
            "Input: [1 0], Output: 1\n",
            "Input: [1 1], Output: 1\n"
          ]
        }
      ],
      "source": [
        "import numpy as np\n",
        "\n",
        "def activation(x):\n",
        "    return 1 if x >= 0 else 0\n",
        "\n",
        "\n",
        "X = np.array([[0, 0], [0, 1], [1, 0], [1, 1]])\n",
        "y_and = np.array([0, 0, 0, 1])\n",
        "y_or = np.array([0, 1, 1, 1])\n",
        "\n",
        "w_and = np.array([0.5, 0.5])\n",
        "b_and = -0.7\n",
        "w_or = np.array([0.5, 0.5])\n",
        "b_or = -0.3\n",
        "\n",
        "lr = 0.1\n",
        "\n",
        "epochs = 10000\n",
        "for epoch in range(epochs):\n",
        "    for x, y_and_true, y_or_true in zip(X, y_and, y_or):\n",
        "        z_and = np.dot(x, w_and) + b_and\n",
        "        y_and_pred = activation(z_and)\n",
        "        z_or = np.dot(x, w_or) + b_or\n",
        "        y_or_pred = activation(z_or)\n",
        "\n",
        "        error_and = y_and_true - y_and_pred\n",
        "        error_or = y_or_true - y_or_pred\n",
        "\n",
        "        w_and += lr * error_and * x\n",
        "        b_and += lr * error_and\n",
        "        w_or += lr * error_or * x\n",
        "        b_or += lr * error_or\n",
        "\n",
        "print(\"AND function:\")\n",
        "for x in X:\n",
        "    z_and = np.dot(x, w_and) + b_and\n",
        "    y_and_pred = activation(z_and)\n",
        "    print(f\"Input: {x}, Output: {y_and_pred}\")\n",
        "\n",
        "print(\"\\nOR function:\")\n",
        "for x in X:\n",
        "    z_or = np.dot(x, w_or) + b_or\n",
        "    y_or_pred = activation(z_or)\n",
        "    print(f\"Input: {x}, Output: {y_or_pred}\")"
      ]
    }
  ]
}