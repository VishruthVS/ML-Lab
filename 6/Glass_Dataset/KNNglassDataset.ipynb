{
  "nbformat": 4,
  "nbformat_minor": 0,
  "metadata": {
    "colab": {
      "provenance": [],
      "authorship_tag": "ABX9TyPJu6kICDuJir2otjIt8YRU",
      "include_colab_link": true
    },
    "kernelspec": {
      "name": "python3",
      "display_name": "Python 3"
    },
    "language_info": {
      "name": "python"
    }
  },
  "cells": [
    {
      "cell_type": "markdown",
      "metadata": {
        "id": "view-in-github",
        "colab_type": "text"
      },
      "source": [
        "<a href=\"https://colab.research.google.com/github/VishruthVS/ML_Lab/blob/main/6/Glass_Dataset/KNNglassDataset.ipynb\" target=\"_parent\"><img src=\"https://colab.research.google.com/assets/colab-badge.svg\" alt=\"Open In Colab\"/></a>"
      ]
    },
    {
      "cell_type": "code",
      "execution_count": 3,
      "metadata": {
        "colab": {
          "base_uri": "https://localhost:8080/"
        },
        "id": "ZnmXvBy2sbw_",
        "outputId": "4a4e911d-71e8-4a70-e6c1-16e1f54af6d4"
      },
      "outputs": [
        {
          "output_type": "stream",
          "name": "stdout",
          "text": [
            "[7, 5, 2, 2, 7, 2, 7, 2, 1, 1, 1, 3, 2, 2, 1, 1, 6, 1, 2, 7, 5, 1, 2, 2, 1, 2, 2, 1, 7, 1, 1, 2, 3, 3, 1, 1, 1, 7, 7, 2, 7, 1, 2, 7, 7, 5, 1, 2, 7, 1, 2, 1, 1, 1, 3, 1, 2, 2, 7, 1, 2, 1, 5, 3, 1]\n",
            "Accuracy: 0.7384615384615385\n"
          ]
        }
      ],
      "source": [
        "import numpy as np\n",
        "import pandas as pd\n",
        "from collections import Counter\n",
        "from sklearn.model_selection import train_test_split\n",
        "\n",
        "def euclidean_distance(x1, x2):\n",
        "  distance = np.sqrt(np.sum((x1 - x2) ** 2))\n",
        "  return distance\n",
        "\n",
        "class KNN:\n",
        "  def __init__(self, k):\n",
        "    self.k = k\n",
        "\n",
        "  def fit(self, X, y):\n",
        "    self.X_train = X\n",
        "    self.y_train = y\n",
        "\n",
        "  def predict(self, X):\n",
        "    predictions = [self._predict(x) for x in X]\n",
        "    return predictions\n",
        "\n",
        "  def _predict(self, x):\n",
        "    distances = [euclidean_distance(x, x_train) for x_train in self.X_train]\n",
        "    k_indices = np.argsort(distances)[:self.k]\n",
        "    k_nearest_labels = [self.y_train[i] for i in k_indices]\n",
        "    most_common = Counter(k_nearest_labels).most_common()\n",
        "    return most_common[0][0]\n",
        "\n",
        "df = pd.read_csv('glass.csv')\n",
        "y = df['Type'].values\n",
        "X = df.drop('Type', axis=1).values\n",
        "\n",
        "X_train, X_test, y_train, y_test = train_test_split(X, y, test_size=0.3)\n",
        "clf = KNN(k=3)\n",
        "clf.fit(X_train, y_train)\n",
        "predictions = clf.predict(X_test)\n",
        "\n",
        "print(predictions)\n",
        "accuracy = np.sum(predictions == y_test) / len(y_test)\n",
        "print(\"Accuracy:\", accuracy)"
      ]
    }
  ]
}