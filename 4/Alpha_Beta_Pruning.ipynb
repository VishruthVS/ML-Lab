{
  "nbformat": 4,
  "nbformat_minor": 0,
  "metadata": {
    "colab": {
      "provenance": [],
      "authorship_tag": "ABX9TyOzgyXHbdElJyjkTrKEDJbK",
      "include_colab_link": true
    },
    "kernelspec": {
      "name": "python3",
      "display_name": "Python 3"
    },
    "language_info": {
      "name": "python"
    }
  },
  "cells": [
    {
      "cell_type": "markdown",
      "metadata": {
        "id": "view-in-github",
        "colab_type": "text"
      },
      "source": [
        "<a href=\"https://colab.research.google.com/github/VishruthVS/ML_Lab/blob/main/4/Alpha_Beta_Pruning.ipynb\" target=\"_parent\"><img src=\"https://colab.research.google.com/assets/colab-badge.svg\" alt=\"Open In Colab\"/></a>"
      ]
    },
    {
      "cell_type": "code",
      "execution_count": 8,
      "metadata": {
        "colab": {
          "base_uri": "https://localhost:8080/"
        },
        "id": "9q3KBVB2AIzV",
        "outputId": "8ea5c24b-aa46-4fe3-e22b-cd4ec1008187"
      },
      "outputs": [
        {
          "output_type": "stream",
          "name": "stdout",
          "text": [
            "Optimal value: 5\n",
            "Optimal path: [0, 0, 0, 5]\n",
            "Total pruned nodes: 4\n"
          ]
        }
      ],
      "source": [
        "\n",
        "class TreeNode:\n",
        "    def __init__(self, value, children=[]):\n",
        "        self.value = value\n",
        "        self.children = children\n",
        "        self.alpha = float('-inf')\n",
        "        self.beta = float('inf')\n",
        "\n",
        "def alphabeta(node, depth, alpha, beta, maximizing_player):\n",
        "    global pruned_count\n",
        "\n",
        "    if depth == 0 or not node.children:\n",
        "        return node.value, [node.value]\n",
        "\n",
        "    if maximizing_player:\n",
        "        max_value = float(\"-inf\")\n",
        "        max_path = []\n",
        "        for child_node in node.children:\n",
        "            child_value, child_path = alphabeta(child_node, depth - 1, alpha, beta, False)\n",
        "            if child_value > max_value:\n",
        "                max_value = child_value\n",
        "                max_path = [node.value] + child_path\n",
        "\n",
        "            alpha = max(alpha, max_value)\n",
        "            if alpha >= beta:\n",
        "                pruned_count+=len(child_node.children)+1\n",
        "                break\n",
        "\n",
        "        return max_value, max_path\n",
        "\n",
        "    else:\n",
        "        min_value = float(\"inf\")\n",
        "        min_path = []\n",
        "        for child_node in node.children:\n",
        "            child_value, child_path = alphabeta(child_node, depth - 1, alpha, beta, True)\n",
        "            if child_value < min_value:\n",
        "                min_value = child_value\n",
        "                min_path = [node.value] + child_path\n",
        "\n",
        "            beta = min(beta, min_value)\n",
        "            if alpha >= beta:\n",
        "                pruned_count+=len(child_node.children)+1\n",
        "                break\n",
        "\n",
        "        return min_value, min_path\n",
        "\n",
        "\n",
        "game_tree = TreeNode(0, [\n",
        "    TreeNode(0, [\n",
        "        TreeNode(0,[\n",
        "            TreeNode(3), TreeNode(5)\n",
        "            ]),\n",
        "        TreeNode(0,[\n",
        "            TreeNode(6), TreeNode(9)\n",
        "            ])\n",
        "        ]),\n",
        "    TreeNode(0, [\n",
        "        TreeNode(0,[\n",
        "            TreeNode(1), TreeNode(2)\n",
        "            ]),\n",
        "        TreeNode(0,[\n",
        "            TreeNode(0), TreeNode(-1)\n",
        "            ])\n",
        "        ])\n",
        "])\n",
        "\n",
        "pruned_count = 0\n",
        "optimal_value, optimal_path = alphabeta(game_tree, 3, float('-inf'), float('inf'), True)\n",
        "\n",
        "print(\"Optimal value:\", optimal_value)\n",
        "print(\"Optimal path:\",optimal_path)\n",
        "print(\"Total pruned nodes:\", pruned_count)"
      ]
    }
  ]
}